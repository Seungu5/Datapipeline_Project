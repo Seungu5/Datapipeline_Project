{
 "cells": [
  {
   "cell_type": "markdown",
   "id": "0fb10734-cb4e-416b-bd63-a42e2719a154",
   "metadata": {},
   "source": [
    "#### Import Library & Load webdriver"
   ]
  },
  {
   "cell_type": "code",
   "execution_count": 3,
   "id": "ba16d716-5fa7-4492-986f-5057068389a3",
   "metadata": {},
   "outputs": [
    {
     "name": "stderr",
     "output_type": "stream",
     "text": [
      "C:\\Users\\SOONKI~1\\AppData\\Local\\Temp/ipykernel_14096/1149647549.py:11: DeprecationWarning: executable_path has been deprecated, please pass in a Service object\n",
      "  driver = webdriver.Edge('msedgedriver.exe') # webdriver.Chrome('chromedriver.exe')\n"
     ]
    }
   ],
   "source": [
    "from selenium import webdriver\n",
    "import time\n",
    "from openpyxl import Workbook\n",
    "import pandas as pd\n",
    "from selenium.webdriver.common.keys import Keys\n",
    "from bs4 import BeautifulSoup\n",
    "\n",
    "wb = Workbook(write_only=True)\n",
    "ws = wb.create_sheet()\n",
    "\n",
    "driver = webdriver.Chrome('C:/Users/swjh9523/Desktop/crawler/chromedriver.exe')\n",
    "driver.get(\"https://www.youtube.com/watch?v=_MYR9Dp8Eys\")\n",
    "driver.implicitly_wait(3)\n",
    "\n",
    "time.sleep(1.5)\n",
    "\n",
    "driver.execute_script(\"window.scrollTo(0, 800)\")\n",
    "time.sleep(3)"
   ]
  },
  {
   "cell_type": "markdown",
   "id": "01def3f7-10b2-406b-be73-e3fafa8a4492",
   "metadata": {},
   "source": [
    "#### 페이지 끝까지 스크롤 및 팝업 닫기"
   ]
  },
  {
   "cell_type": "code",
   "execution_count": 4,
   "id": "cb31e1ed-e578-4866-b8e4-5f2c75a8730a",
   "metadata": {},
   "outputs": [
    {
     "name": "stderr",
     "output_type": "stream",
     "text": [
      "C:\\Users\\SOONKI~1\\AppData\\Local\\Temp/ipykernel_14096/3842540066.py:15: DeprecationWarning: find_element_by_* commands are deprecated. Please use find_element() instead\n",
      "  driver.find_element_by_css_selector(\"#dismiss-button > a\").click()\n"
     ]
    }
   ],
   "source": [
    "last_height = driver.execute_script(\"return document.documentElement.scrollHeight\")\n",
    "\n",
    "while True:\n",
    "    driver.execute_script(\"window.scrollTo(0, document.documentElement.scrollHeight);\")\n",
    "    time.sleep(5)\n",
    "\n",
    "    new_height = driver.execute_script(\"return document.documentElement.scrollHeight\")\n",
    "    if new_height == last_height:\n",
    "        break\n",
    "    last_height = new_height\n",
    "\n",
    "time.sleep(5)\n",
    "\n",
    "try:\n",
    "    driver.find_element_by_css_selector(\"#dismiss-button > a\").click()\n",
    "except:\n",
    "    pass"
   ]
  },
  {
   "cell_type": "markdown",
   "id": "019c1f90-8fe5-4a8e-b4ee-3e49fe9cd682",
   "metadata": {},
   "source": [
    "#### 댓글 정보 추출 및 csv로 저장"
   ]
  },
  {
   "cell_type": "code",
   "execution_count": 5,
   "id": "52750c80-cf5d-468a-a67f-93e2fc27bec1",
   "metadata": {},
   "outputs": [],
   "source": [
    "html_source = driver.page_source\n",
    "soup = BeautifulSoup(html_source, 'html.parser')\n",
    "\n",
    "id_list = soup.select(\"div#header-author > h3 > #author-text > span\")\n",
    "comment_list = soup.select(\"yt-formatted-string#content-text\")\n",
    "\n",
    "id_final = []\n",
    "comment_final = []\n",
    "\n",
    "for i in range(len(comment_list)):\n",
    "    temp_id = id_list[i].text\n",
    "    temp_id = temp_id.replace('\\n', '')\n",
    "    temp_id = temp_id.replace('\\t', '')\n",
    "    temp_id = temp_id.replace('    ', '')\n",
    "    id_final.append(temp_id)\n",
    "\n",
    "    temp_comment = comment_list[i].text\n",
    "    temp_comment = temp_comment.replace('\\n', '')\n",
    "    temp_comment = temp_comment.replace('\\t', '')\n",
    "    temp_comment = temp_comment.replace('    ', '')\n",
    "    comment_final.append(temp_comment)\n",
    "\n",
    "pd_data = {\"아이디\" : id_final , \"댓글 내용\" : comment_final}\n",
    "youtube_pd = pd.DataFrame(pd_data)\n",
    "# convert_csv_from_dataframe('title',youtube_pd)\n",
    "# youtube_pd.to_excel('youtube.xlsx',encoding = 'cp949')\n",
    "youtube_pd.to_csv(f\"youtube_pd_title_5.csv\", encoding='utf-8-sig')\n",
    "driver.close()"
   ]
  },
  {
   "cell_type": "code",
   "execution_count": null,
   "id": "80891e57-6a9c-4d6a-a5f4-bee694db9e18",
   "metadata": {},
   "outputs": [],
   "source": [
    "youtube_pd"
   ]
  }
 ],
 "metadata": {
  "kernelspec": {
   "display_name": "Python 3 (ipykernel)",
   "language": "python",
   "name": "python3"
  },
  "language_info": {
   "codemirror_mode": {
    "name": "ipython",
    "version": 3
   },
   "file_extension": ".py",
   "mimetype": "text/x-python",
   "name": "python",
   "nbconvert_exporter": "python",
   "pygments_lexer": "ipython3",
   "version": "3.8.12"
  }
 },
 "nbformat": 4,
 "nbformat_minor": 5
}
